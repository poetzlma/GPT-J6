{
 "cells": [
  {
   "cell_type": "code",
   "execution_count": 2,
   "metadata": {},
   "outputs": [
    {
     "name": "stderr",
     "output_type": "stream",
     "text": [
      "/home/azureuser/.local/lib/python3.8/site-packages/tqdm/auto.py:22: TqdmWarning: IProgress not found. Please update jupyter and ipywidgets. See https://ipywidgets.readthedocs.io/en/stable/user_install.html\n",
      "  from .autonotebook import tqdm as notebook_tqdm\n"
     ]
    }
   ],
   "source": [
    "import time\n",
    "import torch\n",
    "from transformers import GPTJForCausalLM, GPT2Tokenizer\n",
    "import torch"
   ]
  },
  {
   "cell_type": "code",
   "execution_count": 3,
   "metadata": {},
   "outputs": [],
   "source": [
    "#Will need at least 13-14GB of Vram for CUDA\n",
    "if torch.cuda.is_available():\n",
    "    model =  GPTJForCausalLM.from_pretrained(\"EleutherAI/gpt-j-6B\",cache_dir=\"/datadrive/cache_dir/\", torch_dtype=torch.float16).cuda()\n",
    "else:\n",
    "    print(\"GPU not available, check driver and cuda installation and reboot if neccessary\")\n",
    "    #model =  GPTJForCausalLM.from_pretrained(\"EleutherAI/gpt-j-6B\", torch_dtype=torch.float16)"
   ]
  },
  {
   "cell_type": "code",
   "execution_count": 4,
   "metadata": {},
   "outputs": [],
   "source": [
    "from transformers import AutoTokenizer\n",
    "tokenizer = AutoTokenizer.from_pretrained(\"EleutherAI/gpt-j-6B\")"
   ]
  },
  {
   "cell_type": "code",
   "execution_count": 5,
   "metadata": {},
   "outputs": [],
   "source": [
    "environment_description = \"\"\"\n",
    "Name: Max  Occupation: Consultant Salary: 500\n",
    "Name: Sam  Occupation: Consultant Salary: 600\n",
    "Name: James Occupation: Consultant Salary: 700\"\"\""
   ]
  },
  {
   "cell_type": "code",
   "execution_count": 6,
   "metadata": {},
   "outputs": [
    {
     "name": "stderr",
     "output_type": "stream",
     "text": [
      "The attention mask and the pad token id were not set. As a consequence, you may observe unexpected behavior. Please pass your input's `attention_mask` to obtain reliable results.\n",
      "Setting `pad_token_id` to `eos_token_id`:50256 for open-end generation.\n"
     ]
    },
    {
     "name": "stdout",
     "output_type": "stream",
     "text": [
      "\n",
      "Name: Max  Occupation: Consultant Salary: 500\n",
      "Name: Sam  Occupation: Consultant Salary: 600\n",
      "Name: James Occupation: Consultant Salary: 700\n",
      "Name: Max  Occupation: Consultant Salary: 800\n",
      "\n",
      "A:\n",
      "\n",
      "You can create a method that iterates your list using the list's Iterator, and then prints the results.\n",
      "public static void main(String[] args) {\n",
      "    PersonList people = new PersonList();\n",
      "    people.add(new Person(\"John\", \"Doe\", \"123-4567\"));\n",
      "    people.add(new Person(\"Max\", \"Moe\", \"9876-4567\"));\n",
      "    people.add(new Person(\"Sam\", \"Smith\", \"9856-4567\"));\n",
      "    people.add(new Person(\"James\", \"Johnson\", \"9856-4567\"));\n",
      "    people.add(new Person(\"Mike\", \"Jones\", \"9855-4567\"));\n",
      "    people.add(new Person(\"Max\", \"\n"
     ]
    }
   ],
   "source": [
    "input_text = environment_description\n",
    "input_ids = tokenizer.encode(str(input_text), return_tensors='pt').cuda()\n",
    "\n",
    "output = model.generate(\n",
    "    input_ids,\n",
    "    do_sample=True,\n",
    "    top_p=0.99,\n",
    "    top_k=10,\n",
    "    temperature=0.9,\n",
    "    max_new_tokens=200,\n",
    "    #penalty_alpha=0.6\n",
    "\n",
    ")\n",
    "\n",
    "print(tokenizer.decode(output[0], skip_special_tokens=True))"
   ]
  },
  {
   "cell_type": "code",
   "execution_count": 7,
   "metadata": {},
   "outputs": [
    {
     "name": "stdout",
     "output_type": "stream",
     "text": [
      " * Serving Flask app '__main__' (lazy loading)\n",
      " * Environment: production\n",
      "\u001b[31m   WARNING: This is a development server. Do not use it in a production deployment.\u001b[0m\n",
      "\u001b[2m   Use a production WSGI server instead.\u001b[0m\n",
      " * Debug mode: off\n"
     ]
    },
    {
     "name": "stderr",
     "output_type": "stream",
     "text": [
      " * Running on http://127.0.0.1:5002 (Press CTRL+C to quit)\n",
      "The attention mask and the pad token id were not set. As a consequence, you may observe unexpected behavior. Please pass your input's `attention_mask` to obtain reliable results.\n",
      "Setting `pad_token_id` to `eos_token_id`:50256 for open-end generation.\n",
      "127.0.0.1 - - [11/Nov/2022 00:01:47] \"GET /generate/I%20am%20working%20the%20whole%20night./8 HTTP/1.1\" 200 -\n",
      "The attention mask and the pad token id were not set. As a consequence, you may observe unexpected behavior. Please pass your input's `attention_mask` to obtain reliable results.\n",
      "Setting `pad_token_id` to `eos_token_id`:50256 for open-end generation.\n",
      "127.0.0.1 - - [11/Nov/2022 00:02:19] \"GET /generate/I%20was%20coding%20this%20app%20the%20whole%20night/8 HTTP/1.1\" 200 -\n",
      "The attention mask and the pad token id were not set. As a consequence, you may observe unexpected behavior. Please pass your input's `attention_mask` to obtain reliable results.\n",
      "Setting `pad_token_id` to `eos_token_id`:50256 for open-end generation.\n",
      "127.0.0.1 - - [11/Nov/2022 00:15:29] \"GET /generate/Ich%20bin%20doof/33 HTTP/1.1\" 200 -\n"
     ]
    }
   ],
   "source": [
    "from flask import Flask, request\n",
    "from flask_restful import Resource, Api\n",
    "\n",
    "\n",
    "app = Flask(__name__)\n",
    "api = Api(app)\n",
    "\n",
    "class generate_text(Resource):\n",
    "    def get(self, text, tokens):\n",
    "\n",
    "        environment_description = text\n",
    "\n",
    "        input_text = environment_description\n",
    "        input_ids = tokenizer.encode(str(input_text), return_tensors='pt').cuda()\n",
    "\n",
    "        output = model.generate(\n",
    "            input_ids,\n",
    "            do_sample=True,\n",
    "            top_p=0.99,\n",
    "            top_k=10,\n",
    "            temperature=0.9,\n",
    "            max_new_tokens=int(tokens)*10,\n",
    "            penalty_alpha=0.6\n",
    "            )\n",
    "\n",
    "        out = tokenizer.decode(output[0], skip_special_tokens=True)\n",
    "        \n",
    "        \n",
    "        result = {\"result\":out}\n",
    "        return result   \n",
    "        \n",
    "api.add_resource(generate_text, '/generate/<text>/<tokens>') # Route_1\n",
    "\n",
    "app.run(port='5002')"
   ]
  }
 ],
 "metadata": {
  "kernelspec": {
   "display_name": "Python 3.8.5 ('ldm')",
   "language": "python",
   "name": "python3"
  },
  "language_info": {
   "codemirror_mode": {
    "name": "ipython",
    "version": 3
   },
   "file_extension": ".py",
   "mimetype": "text/x-python",
   "name": "python",
   "nbconvert_exporter": "python",
   "pygments_lexer": "ipython3",
   "version": "3.8.13"
  },
  "orig_nbformat": 4,
  "vscode": {
   "interpreter": {
    "hash": "02d2c4a433672b1324c93c9860b07975f9008655601f1a75418acae9093eae80"
   }
  }
 },
 "nbformat": 4,
 "nbformat_minor": 2
}
