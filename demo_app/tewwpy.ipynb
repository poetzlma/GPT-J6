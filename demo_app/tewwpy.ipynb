{
 "cells": [
  {
   "cell_type": "code",
   "execution_count": 1,
   "metadata": {},
   "outputs": [],
   "source": [
    "import tweepy"
   ]
  },
  {
   "cell_type": "code",
   "execution_count": 2,
   "metadata": {},
   "outputs": [],
   "source": [
    "consumer_key = \"\"\n",
    "\n",
    "consumer_key = \"rqFtWqYHbIOfhkORFptADb46c\"\n",
    "\n",
    "consumer_secret = \"H67o5iXHsQonTr2RaLbLESxFjps2EYRSl0MuUCPGGdUd5DfZdv\"\n",
    "\n",
    "acess_token = \"2361343515-iqVxyN04aBMy1PUinsOLrJHslCgnLlEdzXi0kEA\"\n",
    "\n",
    "acess_token_secret = \"TqgNFkBMJMuncFaEz7kBoUYsvNrRazDkyiQ2070XxtQi6\"\n",
    "\n",
    "\n",
    "\n"
   ]
  },
  {
   "cell_type": "code",
   "execution_count": null,
   "metadata": {},
   "outputs": [],
   "source": [
    "auth = tweepy.OAuthHandler(consumer_key, consumer_secret)\n",
    "auth.set_access_token(access_token, access_token_secret)\n",
    "api = tweepy.API(auth)\n",
    "username='@0xfoobar'\n",
    "tweets_list= api.user_timeline(username, count=1) # Get the last tweet\n",
    "# By default api.user_timeline() gets the last 20 tweets, but you can specify it\n",
    "# with the count parameter\n",
    "tweet= tweet_list[0] # An object of class Status (tweepy.models.Status)\n",
    "print(tweet.created_at) # Print the datetime object for the tweet\n",
    "print(tweet.text) # Print the text of the tweet\n",
    "print(tweet.in_reply_to_screen_name) # Print the username of the user the \n",
    "# the tweet is replying to, it is None if the tweet is not a reply"
   ]
  }
 ],
 "metadata": {
  "kernelspec": {
   "display_name": "Python 3.8.13 ('ldm')",
   "language": "python",
   "name": "python3"
  },
  "language_info": {
   "codemirror_mode": {
    "name": "ipython",
    "version": 3
   },
   "file_extension": ".py",
   "mimetype": "text/x-python",
   "name": "python",
   "nbconvert_exporter": "python",
   "pygments_lexer": "ipython3",
   "version": "3.8.13"
  },
  "orig_nbformat": 4,
  "vscode": {
   "interpreter": {
    "hash": "02d2c4a433672b1324c93c9860b07975f9008655601f1a75418acae9093eae80"
   }
  }
 },
 "nbformat": 4,
 "nbformat_minor": 2
}
